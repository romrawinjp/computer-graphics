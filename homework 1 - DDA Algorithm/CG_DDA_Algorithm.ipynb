{
  "nbformat": 4,
  "nbformat_minor": 0,
  "metadata": {
    "colab": {
      "name": "CG - DDA Algorithm.ipynb",
      "provenance": []
    },
    "kernelspec": {
      "name": "python3",
      "display_name": "Python 3"
    },
    "language_info": {
      "name": "python"
    }
  },
  "cells": [
    {
      "cell_type": "markdown",
      "metadata": {
        "id": "wyaRpmNPXquQ"
      },
      "source": [
        "# DDA Algorithm\n",
        "\n",
        "digital differential analyzer (DDA)\n",
        "\n"
      ]
    },
    {
      "cell_type": "code",
      "metadata": {
        "id": "ob6ARJofXqPq"
      },
      "source": [
        "import time\n",
        "import numpy as np\n",
        "import matplotlib.pyplot as plt"
      ],
      "execution_count": null,
      "outputs": []
    },
    {
      "cell_type": "code",
      "metadata": {
        "colab": {
          "base_uri": "https://localhost:8080/",
          "height": 612
        },
        "id": "tMpSPJUhXlDY",
        "outputId": "86b2f3fc-0ac3-48d1-9ca3-2a87bc94435b"
      },
      "source": [
        "def lineDDA(xa,ya,xb,yb):\n",
        "\n",
        "  def ROUND(a):\n",
        "    return int(a + 0.5)\n",
        "\n",
        "  def setPixel(x, y):\n",
        "    xs, ys = [], []\n",
        "    for k in range(steps):\n",
        "      x += xIncrement\n",
        "      y += yIncrement\n",
        "      xs.append(x); ys.append(y)\n",
        "      print('x = %s, y = %s' % (ROUND(x),ROUND(y)))\n",
        "    return xs, ys\n",
        "\n",
        "  start = time.time()\n",
        "  x, y = xa, ya\n",
        "  dx, dy = xb-xa, yb-ya\n",
        "  steps = abs(dx) if abs(dx) > abs(dy) else abs(dy)\n",
        "  xIncrement = dx/float(steps)\n",
        "  yIncrement = dy/float(steps)\n",
        "  print ('x = %s, y = %s' % (ROUND(x),ROUND(y)))\n",
        "\n",
        "  # Loop and store the x, y points\n",
        "  xs, ys = setPixel(ROUND(x), ROUND(y))\n",
        "\n",
        "  # Display the line\n",
        "  plt.plot(xs, ys)\n",
        "  plt.show()\n",
        "\n",
        "  # Print running time\n",
        "  print(\"Running time: %0.3f s\"%(time.time() - start))\n",
        "\n",
        "lineDDA(5,2,10,20)"
      ],
      "execution_count": null,
      "outputs": [
        {
          "output_type": "stream",
          "name": "stdout",
          "text": [
            "x = 5, y = 2\n",
            "x = 5, y = 3\n",
            "x = 6, y = 4\n",
            "x = 6, y = 5\n",
            "x = 6, y = 6\n",
            "x = 6, y = 7\n",
            "x = 7, y = 8\n",
            "x = 7, y = 9\n",
            "x = 7, y = 10\n",
            "x = 7, y = 11\n",
            "x = 8, y = 12\n",
            "x = 8, y = 13\n",
            "x = 8, y = 14\n",
            "x = 9, y = 15\n",
            "x = 9, y = 16\n",
            "x = 9, y = 17\n",
            "x = 9, y = 18\n",
            "x = 10, y = 19\n",
            "x = 10, y = 20\n"
          ]
        },
        {
          "output_type": "display_data",
          "data": {
            "image/png": "[encoded data removed]",
            "text/plain": [
              "<Figure size 432x288 with 1 Axes>"
            ]
          },
          "metadata": {
            "needs_background": "light"
          }
        },
        {
          "output_type": "stream",
          "name": "stdout",
          "text": [
            "Running time: 0.133 s\n"
          ]
        }
      ]
    },
    {
      "cell_type": "code",
      "metadata": {
        "id": "2H8u7U2NwFKw"
      },
      "source": [
        "1"
      ],
      "execution_count": null,
      "outputs": []
    }
  ]
}