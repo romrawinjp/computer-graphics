{
  "nbformat": 4,
  "nbformat_minor": 0,
  "metadata": {
    "colab": {
      "name": "CG - Ellipse Midpoint Drawing.ipynb",
      "provenance": []
    },
    "kernelspec": {
      "name": "python3",
      "display_name": "Python 3"
    },
    "language_info": {
      "name": "python"
    }
  },
  "cells": [
    {
      "cell_type": "markdown",
      "source": [
        "# Midpoint ellipse drawing algorithm\n",
        "Mid-point Ellipse algorithm is used to draw an ellipse in computer graphics."
      ],
      "metadata": {
        "id": "HDpVZp3UGs2C"
      }
    },
    {
      "cell_type": "code",
      "source": [
        "# import libraries\n",
        "import numpy as np\n",
        "import matplotlib.pyplot as plt\n",
        "from matplotlib.patches import Ellipse"
      ],
      "metadata": {
        "id": "C9vPApORGqoA"
      },
      "execution_count": null,
      "outputs": []
    },
    {
      "cell_type": "code",
      "execution_count": null,
      "metadata": {
        "colab": {
          "base_uri": "https://localhost:8080/",
          "height": 869
        },
        "id": "mUSZ6A0TGUX2",
        "outputId": "fac79f32-2e3b-4174-9e1f-00224873ce44"
      },
      "outputs": [
        {
          "output_type": "stream",
          "name": "stdout",
          "text": [
            "Calculating Region 1\n",
            "Initial point: (50, 65) (50, 65) (50, 35) (50, 35) \n",
            "p1_0 = -1250 | (51, 65) (49, 65) (51, 35) (49, 35) \n",
            "p1_0 = -575 | (52, 65) (48, 65) (52, 35) (48, 35) \n",
            "p1_0 = 550 | (53, 64) (47, 64) (53, 36) (47, 36) \n",
            "p1_0 = -675 | (54, 64) (46, 64) (54, 36) (46, 36) \n",
            "p1_0 = 1350 | (55, 63) (45, 63) (55, 37) (45, 37) \n",
            "p1_0 = 1225 | \n",
            "Calculating Region 2\n",
            "Initial point: (56, 62) (44, 62) (56, 38) (44, 38) \n",
            "p2_0 = -893 | (57, 61) (43, 61) (57, 39) (43, 39) \n",
            "p2_0 = 156 | (57, 60) (43, 60) (57, 40) (43, 40) \n",
            "p2_0 = -1743 | (58, 59) (42, 59) (58, 41) (42, 41) \n",
            "p2_0 = 156 | (58, 58) (42, 58) (58, 42) (42, 42) \n",
            "p2_0 = -1343 | (59, 57) (41, 57) (59, 43) (41, 43) \n",
            "p2_0 = 1406 | (59, 56) (41, 56) (59, 44) (41, 44) \n",
            "p2_0 = 306 | (59, 55) (41, 55) (59, 45) (41, 45) \n",
            "p2_0 = -593 | (60, 54) (40, 54) (60, 46) (40, 46) \n",
            "p2_0 = 3206 | (60, 53) (40, 53) (60, 47) (40, 47) \n",
            "p2_0 = 2706 | (60, 52) (40, 52) (60, 48) (40, 48) \n",
            "p2_0 = 2406 | (60, 51) (40, 51) (60, 49) (40, 49) \n",
            "p2_0 = 2306 | (60, 50) (40, 50) (60, 50) (40, 50) \n",
            "p2_0 = 2406 | \n"
          ]
        },
        {
          "output_type": "display_data",
          "data": {
            "image/png": "[encoded data removed]",
            "text/plain": [
              "<Figure size 360x540 with 1 Axes>"
            ]
          },
          "metadata": {
            "needs_background": "light"
          }
        }
      ],
      "source": [
        "def midPointEllipse(rx, ry, xc, yc):\n",
        " \n",
        "    x = 0;\n",
        "    y = ry;\n",
        "\n",
        "    xs, ys = [], []\n",
        "\n",
        "    # Initial parameters\n",
        "    p1 = ((ry**2) - ((rx**2)*ry) + (0.25 * (rx**2)))\n",
        "    dx = 2 * (ry**2) * x\n",
        "    dy = 2 * (rx**2) * y\n",
        " \n",
        "    # Region 1\n",
        "    print(\"Calculating Region 1\")\n",
        "    print(\"Initial point: \", end=\"\")\n",
        "    while (dx < dy):\n",
        "      update_x = [x+xc, -x+xc, x+xc, -x+xc]\n",
        "      update_y = [y+yc, y+yc, -y+yc, -y+yc]\n",
        "      for i in range(4):\n",
        "        print(\"(%d, %d)\"%(update_x[i], update_y[i]), end=\" \")\n",
        "        xs.append(update_x[i])\n",
        "        ys.append(update_y[i])\n",
        "      print()\n",
        "\n",
        "      # Updating values\n",
        "      if (p1 < 0):\n",
        "        print(\"p1_0 = %d\"%(p1), end=\" | \")\n",
        "        x += 1\n",
        "        dx = dx + (2 * ry * ry)\n",
        "        p1 = p1 + dx + (ry * ry)\n",
        "      else:\n",
        "        print(\"p1_0 = %d\"%(p1), end=\" | \")\n",
        "        x += 1\n",
        "        y -= 1\n",
        "        dx = dx + (2 * ry * ry)\n",
        "        dy = dy - (2 * rx * rx)\n",
        "        p1 += + dx - dy + (ry**2)\n",
        "    print()\n",
        " \n",
        "    # Region 2\n",
        "    p2 = (((ry**2) * ((x+0.5)**2)) + ((rx**2) * ((y-1)**2))) - ((rx**2) * (ry**2))\n",
        "    print(\"Calculating Region 2\")\n",
        "    print(\"Initial point: \", end=\"\")\n",
        "    while (y >= 0):\n",
        "      update_x = [x+xc, -x+xc, x+xc, -x+xc]\n",
        "      update_y = [y+yc, y+yc, -y+yc, -y+yc]\n",
        "      for i in range(4):\n",
        "        print(\"(%d, %d)\"%(update_x[i], update_y[i]), end=\" \")\n",
        "        xs.append(update_x[i])\n",
        "        ys.append(update_y[i])\n",
        "      print()\n",
        "\n",
        "      # Updating parameter\n",
        "      if (p2 > 0):\n",
        "        print(\"p2_0 = %d\"%(p2), end=\" | \")\n",
        "        y -= 1\n",
        "        dy = dy - (2 * (rx**2))\n",
        "        p2 += (rx**2) - dy\n",
        "      else: \n",
        "        print(\"p2_0 = %d\"%(p2), end=\" | \")\n",
        "        y -= 1\n",
        "        x += 1\n",
        "        dx = dx + (2 * (ry**2))\n",
        "        dy = dy - (2 * (rx**2))\n",
        "        p2 += dx - dy + (rx**2)\n",
        "    print()\n",
        "\n",
        "    # Plot\n",
        "    fig = plt.figure(figsize=(rx*0.5, ry*0.5))\n",
        "    ax = plt.gca()\n",
        "    plt.xlabel(\"x\")\n",
        "    plt.ylabel(\"y\")\n",
        "    plt.scatter(xs, ys)\n",
        "    ax.add_artist(Ellipse((xc, yc), rx*2, ry*2, edgecolor='r', fc='None', lw=2))\n",
        "    plt.show()\n",
        " \n",
        "midPointEllipse(10, 15, 50, 50);"
      ]
    },
    {
      "cell_type": "code",
      "source": [
        ""
      ],
      "metadata": {
        "id": "xvM9IMP6o0mA"
      },
      "execution_count": null,
      "outputs": []
    }
  ]
}