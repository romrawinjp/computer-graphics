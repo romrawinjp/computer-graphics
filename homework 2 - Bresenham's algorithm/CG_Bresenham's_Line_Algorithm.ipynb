{
  "nbformat": 4,
  "nbformat_minor": 0,
  "metadata": {
    "colab": {
      "name": "CG - Bresenham's Line Algorithm.ipynb",
      "provenance": [],
      "collapsed_sections": []
    },
    "kernelspec": {
      "name": "python3",
      "display_name": "Python 3"
    },
    "language_info": {
      "name": "python"
    }
  },
  "cells": [
    {
      "cell_type": "markdown",
      "source": [
        "# Bresenham's Line Algorithm"
      ],
      "metadata": {
        "id": "1CEFg3Prz_DB"
      }
    },
    {
      "cell_type": "markdown",
      "source": [
        "## Import library"
      ],
      "metadata": {
        "id": "xQWfKwmR0CAC"
      }
    },
    {
      "cell_type": "code",
      "execution_count": null,
      "metadata": {
        "id": "4h-sl23iz6aR"
      },
      "outputs": [],
      "source": [
        "import numpy as np\n",
        "import matplotlib.pyplot as plt\n",
        "import seaborn as sns\n",
        "sns.set_style(\"darkgrid\")"
      ]
    },
    {
      "cell_type": "markdown",
      "source": [
        "## Program\n",
        "\n",
        "Python 3 program for Bresenham’s Line Generation \n",
        "\n",
        "Assumptions :\n",
        "1. Line is drawn from left to right. \n",
        "2. Point x0 < x1 and y0 < y1 \n",
        "3. Slope of the line is between 0 and 1. "
      ],
      "metadata": {
        "id": "rhF7crI_0Xht"
      }
    },
    {
      "cell_type": "code",
      "source": [
        "def BresenhamLine(x0,y0,x1, y1): \n",
        "\n",
        "  # Different x, y\n",
        "  dx = x1-x0\n",
        "  dy = y1-y0\n",
        "\n",
        "  m = dy/dx\n",
        "  print(\"m: \", m)\n",
        "  # Assumption 1:\n",
        "  if m > 0:\n",
        "    # Set initial point\n",
        "    two_dy = 2 * dy\n",
        "    p0 = two_dy - dx\n",
        "\n",
        "    # set y0, x0\n",
        "    y = y0\n",
        "    x = x0\n",
        "    k = 0\n",
        "    pks = []\n",
        "    xs, ys = [], []\n",
        "    pks.append(p0); xs.append(x), ys.append(y)\n",
        "    print(\"Initial | p_(k) = %d \\t (%d, %d)\"%(p0, x, y)) \n",
        "    print(\"-\"*30)\n",
        "    while True: \n",
        "      # Conditional incrementation\n",
        "      if p0 >= 0: \n",
        "        p0 += two_dy - (2*dx)\n",
        "        y += 1\n",
        "        x += 1\n",
        "      else: \n",
        "        p0 += two_dy\n",
        "        x += 1\n",
        "      # Check whether the point reach the terminal (x1, y1)\n",
        "      if x > x1 and y > y1:\n",
        "        break\n",
        "      # Print the result\n",
        "      pks.append(p0); xs.append(x), ys.append(y)\n",
        "      print(\"k %d | p_(%d) = %d \\t (%d, %d)\"%(k, k, pks[-2], x, y)) \n",
        "      k+=1\n",
        "    print(\"-\"*30)\n",
        "    \n",
        "    # Display the line\n",
        "    sns.regplot(x = xs, y = ys, color=\"black\")\n",
        "    plt.xlabel(\"x\")\n",
        "    plt.xlabel(\"y\")\n",
        "    plt.title(\"Bresenham's Line\")\n",
        "    plt.show()\n",
        "  else: \n",
        "    print(\"Initial point does not follow assumption 1.\")"
      ],
      "metadata": {
        "id": "UWYEJ0el0WzN"
      },
      "execution_count": null,
      "outputs": []
    },
    {
      "cell_type": "code",
      "source": [
        "BresenhamLine(15, 30, 30, 20)"
      ],
      "metadata": {
        "colab": {
          "base_uri": "https://localhost:8080/"
        },
        "id": "ROMM2AeQ3Ot8",
        "outputId": "5c16e92e-bb16-423c-8cb5-436597ee2889"
      },
      "execution_count": null,
      "outputs": [
        {
          "output_type": "stream",
          "name": "stdout",
          "text": [
            "Initial point does not follow assumption 1.\n"
          ]
        }
      ]
    },
    {
      "cell_type": "code",
      "source": [
        "BresenhamLine(15, 10, 30, 20)"
      ],
      "metadata": {
        "colab": {
          "base_uri": "https://localhost:8080/",
          "height": 632
        },
        "id": "LlcHSVPP6n5d",
        "outputId": "3f8e9344-0de8-4e8e-c100-8c033a0d0ad9"
      },
      "execution_count": null,
      "outputs": [
        {
          "output_type": "stream",
          "name": "stdout",
          "text": [
            "m:  0.6666666666666666\n",
            "Initial | p_(k) = 5 \t (15, 10)\n",
            "------------------------------\n",
            "k 0 | p_(0) = 5 \t (16, 11)\n",
            "k 1 | p_(1) = -5 \t (17, 11)\n",
            "k 2 | p_(2) = 15 \t (18, 12)\n",
            "k 3 | p_(3) = 5 \t (19, 13)\n",
            "k 4 | p_(4) = -5 \t (20, 13)\n",
            "k 5 | p_(5) = 15 \t (21, 14)\n",
            "k 6 | p_(6) = 5 \t (22, 15)\n",
            "k 7 | p_(7) = -5 \t (23, 15)\n",
            "k 8 | p_(8) = 15 \t (24, 16)\n",
            "k 9 | p_(9) = 5 \t (25, 17)\n",
            "k 10 | p_(10) = -5 \t (26, 17)\n",
            "k 11 | p_(11) = 15 \t (27, 18)\n",
            "k 12 | p_(12) = 5 \t (28, 19)\n",
            "k 13 | p_(13) = -5 \t (29, 19)\n",
            "k 14 | p_(14) = 15 \t (30, 20)\n",
            "------------------------------\n"
          ]
        },
        {
          "output_type": "display_data",
          "data": {
            "image/png": "[encoded data removed]",
            "text/plain": [
              "<Figure size 432x288 with 1 Axes>"
            ]
          },
          "metadata": {
            "needs_background": "light"
          }
        }
      ]
    },
    {
      "cell_type": "code",
      "source": [
        ""
      ],
      "metadata": {
        "id": "YT2HRtyB-HlD"
      },
      "execution_count": null,
      "outputs": []
    }
  ]
}