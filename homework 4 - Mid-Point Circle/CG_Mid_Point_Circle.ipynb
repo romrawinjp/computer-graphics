{
  "nbformat": 4,
  "nbformat_minor": 0,
  "metadata": {
    "colab": {
      "name": "CG -  Mid-Point Circle.ipynb",
      "provenance": []
    },
    "kernelspec": {
      "name": "python3",
      "display_name": "Python 3"
    },
    "language_info": {
      "name": "python"
    }
  },
  "cells": [
    {
      "cell_type": "markdown",
      "source": [
        "# Mid-Point Circle Drawing Algorithm\n",
        "\n",
        "- The mid-point circle drawing algorithm is an algorithm used to determine the points needed for rasterizing a circle."
      ],
      "metadata": {
        "id": "17dEuiwoO9ef"
      }
    },
    {
      "cell_type": "code",
      "source": [
        "# import libraries\n",
        "import numpy as np\n",
        "import matplotlib.pyplot as plt"
      ],
      "metadata": {
        "id": "NHWN4pGefxGy"
      },
      "execution_count": 24,
      "outputs": []
    },
    {
      "cell_type": "code",
      "execution_count": 82,
      "metadata": {
        "id": "oBsT-kbMMIsT"
      },
      "outputs": [],
      "source": [
        "def midPointCircle(x_c, y_c, radius):\n",
        "  x = 0\n",
        "  y = radius\n",
        "  \n",
        "  xs, ys = [], []\n",
        "  # Print initial points\n",
        "  print(\"Center point: (%d, %d)\"%(x+x_c, y+y_c))\n",
        "    \n",
        "  # Check if radius > 0\n",
        "  update_x = [x+x_c, -x+x_c, x+x_c, -x+x_c, y+y_c, y+y_c, -y+y_c, -y+y_c]\n",
        "  update_y = [y+y_c, y+y_c, -y+y_c, -y+y_c, x+x_c, -x+x_c, x+x_c, -x+x_c]\n",
        "  if (radius > 0) :\n",
        "    for i in range(8):\n",
        "      print(\"(%d, %d)\"%(update_x[i], update_y[i]), end=\" \")\n",
        "      xs.append(update_x[i])\n",
        "      ys.append(update_y[i])\n",
        "    print()\n",
        "    \n",
        "    # Initialising the value of P \n",
        "    p_0 = 1 - radius\n",
        "    print(\"(x, y)= (%d, %d)\"%(x, y))\n",
        "    print(\"-\"*30)\n",
        "    while x < y:\n",
        "      x += 1\n",
        "      if p_0 < 0:\n",
        "        print(\"p_0 = %d\"%(p_0), end=\" | \")\n",
        "        p_0 += (2*x)+1\n",
        "        update_x = [x+x_c, -x+x_c, x+x_c, -x+x_c, \n",
        "                    y+y_c, y+y_c, -y+y_c, -y+y_c]\n",
        "        update_y = [y+y_c, y+y_c, -y+y_c, -y+y_c, \n",
        "                    x+x_c, -x+x_c, x+x_c, -x+x_c]\n",
        "        print(\"(x, y= (%d, %d)\"%(x, y))\n",
        "        for i in range(8):\n",
        "          print(\"(%d, %d)\"%(update_x[i], update_y[i]), end=\" \")\n",
        "          xs.append(update_x[i])\n",
        "          ys.append(update_y[i])\n",
        "        print()\n",
        "        print(\"-\"*30)\n",
        "      else: \n",
        "        y -= 1\n",
        "        print(\"p_0 = %d\"%(p_0), end=\" | \")\n",
        "        p_0 += (2*x)+1-(2*y)\n",
        "        update_x = [x+x_c, -x+x_c, x+x_c, -x+x_c, \n",
        "                    y+y_c, y+y_c, -y+y_c, -y+y_c]\n",
        "        update_y = [y+y_c, y+y_c, -y+y_c, -y+y_c, \n",
        "                    x+x_c, -x+x_c, x+x_c, -x+x_c]\n",
        "        print(\"(x, y)= (%d, %d)\"%(x, y))\n",
        "        for i in range(8):\n",
        "          print(\"(%d, %d)\"%(update_x[i], update_y[i]), end=\" \")\n",
        "          xs.append(update_x[i])\n",
        "          ys.append(update_y[i])\n",
        "        print()\n",
        "        print(\"-\"*30)\n",
        "  else: \n",
        "    print(\"Radius < 0, one dot is returned\")\n",
        "    xs.append(x_c)\n",
        "    ys.append(y_c)\n",
        "  \n",
        "  # Plot\n",
        "  fig = plt.figure(figsize=(5, 5))\n",
        "  plt.xlabel(\"x\")\n",
        "  plt.ylabel(\"y\")\n",
        "  plt.scatter(xs, ys)\n",
        "  plt.show()"
      ]
    },
    {
      "cell_type": "code",
      "source": [
        "midPointCircle(0, 0, 10)"
      ],
      "metadata": {
        "colab": {
          "base_uri": "https://localhost:8080/",
          "height": 768
        },
        "id": "rwhrgTlHboRb",
        "outputId": "6b31a64b-ca70-431c-f9e4-5cbbbaaea15e"
      },
      "execution_count": 83,
      "outputs": [
        {
          "output_type": "stream",
          "name": "stdout",
          "text": [
            "Center point: (0, 10)\n",
            "(0, 10) (0, 10) (0, -10) (0, -10) (10, 0) (10, 0) (-10, 0) (-10, 0) \n",
            "(x, y)= (0, 10)\n",
            "------------------------------\n",
            "p_0 = -9 | (x, y= (1, 10)\n",
            "(1, 10) (-1, 10) (1, -10) (-1, -10) (10, 1) (10, -1) (-10, 1) (-10, -1) \n",
            "------------------------------\n",
            "p_0 = -6 | (x, y= (2, 10)\n",
            "(2, 10) (-2, 10) (2, -10) (-2, -10) (10, 2) (10, -2) (-10, 2) (-10, -2) \n",
            "------------------------------\n",
            "p_0 = -1 | (x, y= (3, 10)\n",
            "(3, 10) (-3, 10) (3, -10) (-3, -10) (10, 3) (10, -3) (-10, 3) (-10, -3) \n",
            "------------------------------\n",
            "p_0 = 6 | (x, y)= (4, 9)\n",
            "(4, 9) (-4, 9) (4, -9) (-4, -9) (9, 4) (9, -4) (-9, 4) (-9, -4) \n",
            "------------------------------\n",
            "p_0 = -3 | (x, y= (5, 9)\n",
            "(5, 9) (-5, 9) (5, -9) (-5, -9) (9, 5) (9, -5) (-9, 5) (-9, -5) \n",
            "------------------------------\n",
            "p_0 = 8 | (x, y)= (6, 8)\n",
            "(6, 8) (-6, 8) (6, -8) (-6, -8) (8, 6) (8, -6) (-8, 6) (-8, -6) \n",
            "------------------------------\n",
            "p_0 = 5 | (x, y)= (7, 7)\n",
            "(7, 7) (-7, 7) (7, -7) (-7, -7) (7, 7) (7, -7) (-7, 7) (-7, -7) \n",
            "------------------------------\n"
          ]
        },
        {
          "output_type": "display_data",
          "data": {
            "image/png": "[encoded data removed]",
            "text/plain": [
              "<Figure size 360x360 with 1 Axes>"
            ]
          },
          "metadata": {
            "needs_background": "light"
          }
        }
      ]
    },
    {
      "cell_type": "code",
      "source": [
        ""
      ],
      "metadata": {
        "id": "Bwa3z3sJfq-P"
      },
      "execution_count": null,
      "outputs": []
    }
  ]
}